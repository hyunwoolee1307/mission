{
 "cells": [
  {
   "cell_type": "code",
   "execution_count": 1,
   "id": "fba7e580",
   "metadata": {},
   "outputs": [],
   "source": [
    "import xarray as xr\n",
    "import xesmf as xe\n",
    "\n",
    "wind = xr.open_dataset('data/nwp_vorticity_197901_202508.nc')\n",
    "ssta = xr.open_dataset('data/nwp_ssta_197901_202508.nc')\n",
    "\n",
    "wind = wind.drop_vars(['latitude', 'longitude'])\n",
    "ssta = ssta.rename(\n",
    "    {\n",
    "        'longitude': 'lon',\n",
    "        'latitude': 'lat',\n",
    "    }\n",
    ")\n",
    "\n",
    "wind_regrid = xr.Dataset(\n",
    "    {\n",
    "        'lat': (['lat'], ssta.lat.data, {'units': 'degrees_north'}),\n",
    "        'lon': (['lon'], ssta.lon.data, {'units': 'degrees_east'}),\n",
    "    }\n",
    ")\n",
    "\n",
    "regridder = xe.Regridder(wind, wind_regrid, 'conservative')\n",
    "\n",
    "uwind_regrid = regridder(wind.uwind, keep_attrs=True)\n",
    "vwind_regrid = regridder(wind.vwind, keep_attrs=True)\n",
    "vort_regrid = regridder(wind.vorticity, keep_attrs=True)\n",
    "\n",
    "time_ref = ssta.time\n",
    "\n",
    "uwnd_aligned = uwind_regrid.interp(time=time_ref)\n",
    "vwnd_aligned = vwind_regrid.interp(time=time_ref)\n",
    "vort_aligned = vort_regrid.interp(time=time_ref)\n",
    "\n",
    "ds = xr.Dataset(\n",
    "    data_vars={\n",
    "        'ssta': ssta['sst'],\n",
    "        'uwnd': uwnd_aligned,\n",
    "        'vwnd': vwnd_aligned,\n",
    "        'vorticity': vort_aligned,\n",
    "    },\n",
    "    coords={'time': time_ref, 'lon': ssta.lon, 'lat': ssta.lat}\n",
    ")\n",
    "\n",
    "ds.to_netcdf('data/nwp_regrid_197901_202508.nc')"
   ]
  }
 ],
 "metadata": {
  "kernelspec": {
   "display_name": "ocean-research",
   "language": "python",
   "name": "python3"
  },
  "language_info": {
   "codemirror_mode": {
    "name": "ipython",
    "version": 3
   },
   "file_extension": ".py",
   "mimetype": "text/x-python",
   "name": "python",
   "nbconvert_exporter": "python",
   "pygments_lexer": "ipython3",
   "version": "3.11.14"
  }
 },
 "nbformat": 4,
 "nbformat_minor": 5
}
